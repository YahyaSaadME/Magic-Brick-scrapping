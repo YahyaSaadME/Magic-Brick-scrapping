{
 "cells": [
  {
   "cell_type": "code",
   "execution_count": 2,
   "metadata": {},
   "outputs": [
    {
     "name": "stdout",
     "output_type": "stream",
     "text": [
      "skipped\n"
     ]
    }
   ],
   "source": [
    "import json\n",
    "datas = []\n",
    "# Open the JSON file for reading\n",
    "cities = ['Bangalore', 'Chennai', 'New-Delhi', 'Hyderabad', 'Kolkata', 'Mumbai', 'Ahmedabad', 'Pune']\n",
    "for i in range(1,6):\n",
    "    for j in cities:\n",
    "        with open(f'./dataset/BHK-{i}/{j}.json', 'r') as json_file:\n",
    "            # Load JSON data into a Python dictionary\n",
    "            try:\n",
    "                data = json.load(json_file)\n",
    "                datas.extend(data[\"datas\"])\n",
    "            except Exception as e:\n",
    "                print(\"skipped\")"
   ]
  },
  {
   "cell_type": "code",
   "execution_count": 3,
   "metadata": {},
   "outputs": [
    {
     "data": {
      "text/plain": [
       "141428"
      ]
     },
     "execution_count": 3,
     "metadata": {},
     "output_type": "execute_result"
    }
   ],
   "source": [
    "len(datas)"
   ]
  },
  {
   "cell_type": "code",
   "execution_count": 10,
   "metadata": {},
   "outputs": [
    {
     "name": "stdout",
     "output_type": "stream",
     "text": [
      "============== Sample Data ==============\n"
     ]
    },
    {
     "data": {
      "text/html": [
       "<div>\n",
       "<style scoped>\n",
       "    .dataframe tbody tr th:only-of-type {\n",
       "        vertical-align: middle;\n",
       "    }\n",
       "\n",
       "    .dataframe tbody tr th {\n",
       "        vertical-align: top;\n",
       "    }\n",
       "\n",
       "    .dataframe thead th {\n",
       "        text-align: right;\n",
       "    }\n",
       "</style>\n",
       "<table border=\"1\" class=\"dataframe\">\n",
       "  <thead>\n",
       "    <tr style=\"text-align: right;\">\n",
       "      <th></th>\n",
       "      <th>title</th>\n",
       "      <th>price</th>\n",
       "      <th>card summary</th>\n",
       "      <th>card list</th>\n",
       "      <th>more details</th>\n",
       "      <th>amenities</th>\n",
       "    </tr>\n",
       "  </thead>\n",
       "  <tbody>\n",
       "    <tr>\n",
       "      <th>0</th>\n",
       "      <td>1 BHK 870 Sq-ft Flat For Sale Kanakapura Road,...</td>\n",
       "      <td>₹68.3 Lac</td>\n",
       "      <td>{'bed': '1', 'bath': '1', 'covered-parking': '...</td>\n",
       "      <td>{'Super Built-up Area': '870', 'Developer': 'T...</td>\n",
       "      <td>{'Price Breakup': '₹68.3 Lac | ₹4 Per sq. Unit...</td>\n",
       "      <td>[Power Back Up, Lift, Rain Water Harvesting, C...</td>\n",
       "    </tr>\n",
       "    <tr>\n",
       "      <th>1</th>\n",
       "      <td>1 BHK 970 Sq-ft Flat For Sale Thanisandra Main...</td>\n",
       "      <td>₹89.0 Lac</td>\n",
       "      <td>{'bed': '1', 'bath': '1', 'unfurnished': ''}</td>\n",
       "      <td>{'Super Built-up Area': '970', 'Developer': 'G...</td>\n",
       "      <td>{'Price Breakup': '₹89 Lac | ₹5 Per sq. Unit M...</td>\n",
       "      <td>[Power Back Up, Lift, Rain Water Harvesting, C...</td>\n",
       "    </tr>\n",
       "    <tr>\n",
       "      <th>2</th>\n",
       "      <td>1 BHK 684 Sq-ft Flat For Sale Kanakapura Road,...</td>\n",
       "      <td>₹60.0 Lac</td>\n",
       "      <td>{'bed': '1', 'bath': '1', 'unfurnished': ''}</td>\n",
       "      <td>{'Super Built-up Area': '684', 'Developer': 'P...</td>\n",
       "      <td>{'Price Breakup': '₹60 Lac | ₹20,000 Yearly', ...</td>\n",
       "      <td>[Power Back Up, Lift, Club House, Swimming Poo...</td>\n",
       "    </tr>\n",
       "    <tr>\n",
       "      <th>3</th>\n",
       "      <td>1 BHK 692 Sq-ft Flat For Sale Thanisandra Main...</td>\n",
       "      <td>₹69.2 Lac</td>\n",
       "      <td>{'bed': '1', 'bath': '1', 'covered-parking': '...</td>\n",
       "      <td>{'Super Built-up Area': '692', 'Developer': 'B...</td>\n",
       "      <td>{'Price Breakup': '₹69.2 Lac', 'Booking Amount...</td>\n",
       "      <td>[Power Back Up, Lift, Gymnasium, Park, Securit...</td>\n",
       "    </tr>\n",
       "    <tr>\n",
       "      <th>4</th>\n",
       "      <td>1 BHK 790 Sq-ft Flat For Sale Sarjapur, Bangalore</td>\n",
       "      <td>₹35.5 Lac</td>\n",
       "      <td>{'bed': '1', 'bath': '1', 'covered-parking': '...</td>\n",
       "      <td>{'Super Built-up Area': '790', 'Developer': 'R...</td>\n",
       "      <td>{'Price Breakup': '₹35.5 Lac', 'Booking Amount...</td>\n",
       "      <td>[Power Back Up, Lift, Club House, Swimming Poo...</td>\n",
       "    </tr>\n",
       "  </tbody>\n",
       "</table>\n",
       "</div>"
      ],
      "text/plain": [
       "                                               title      price  \\\n",
       "0  1 BHK 870 Sq-ft Flat For Sale Kanakapura Road,...  ₹68.3 Lac   \n",
       "1  1 BHK 970 Sq-ft Flat For Sale Thanisandra Main...  ₹89.0 Lac   \n",
       "2  1 BHK 684 Sq-ft Flat For Sale Kanakapura Road,...  ₹60.0 Lac   \n",
       "3  1 BHK 692 Sq-ft Flat For Sale Thanisandra Main...  ₹69.2 Lac   \n",
       "4  1 BHK 790 Sq-ft Flat For Sale Sarjapur, Bangalore  ₹35.5 Lac   \n",
       "\n",
       "                                        card summary  \\\n",
       "0  {'bed': '1', 'bath': '1', 'covered-parking': '...   \n",
       "1       {'bed': '1', 'bath': '1', 'unfurnished': ''}   \n",
       "2       {'bed': '1', 'bath': '1', 'unfurnished': ''}   \n",
       "3  {'bed': '1', 'bath': '1', 'covered-parking': '...   \n",
       "4  {'bed': '1', 'bath': '1', 'covered-parking': '...   \n",
       "\n",
       "                                           card list  \\\n",
       "0  {'Super Built-up Area': '870', 'Developer': 'T...   \n",
       "1  {'Super Built-up Area': '970', 'Developer': 'G...   \n",
       "2  {'Super Built-up Area': '684', 'Developer': 'P...   \n",
       "3  {'Super Built-up Area': '692', 'Developer': 'B...   \n",
       "4  {'Super Built-up Area': '790', 'Developer': 'R...   \n",
       "\n",
       "                                        more details  \\\n",
       "0  {'Price Breakup': '₹68.3 Lac | ₹4 Per sq. Unit...   \n",
       "1  {'Price Breakup': '₹89 Lac | ₹5 Per sq. Unit M...   \n",
       "2  {'Price Breakup': '₹60 Lac | ₹20,000 Yearly', ...   \n",
       "3  {'Price Breakup': '₹69.2 Lac', 'Booking Amount...   \n",
       "4  {'Price Breakup': '₹35.5 Lac', 'Booking Amount...   \n",
       "\n",
       "                                           amenities  \n",
       "0  [Power Back Up, Lift, Rain Water Harvesting, C...  \n",
       "1  [Power Back Up, Lift, Rain Water Harvesting, C...  \n",
       "2  [Power Back Up, Lift, Club House, Swimming Poo...  \n",
       "3  [Power Back Up, Lift, Gymnasium, Park, Securit...  \n",
       "4  [Power Back Up, Lift, Club House, Swimming Poo...  "
      ]
     },
     "execution_count": 10,
     "metadata": {},
     "output_type": "execute_result"
    }
   ],
   "source": [
    "import pandas as pd\n",
    "df = pd.DataFrame(datas)\n",
    "print(\"============== Sample Data ==============\")\n",
    "df.head(5)"
   ]
  },
  {
   "cell_type": "code",
   "execution_count": 23,
   "metadata": {},
   "outputs": [],
   "source": [
    "df.to_csv(\"./data.csv\")"
   ]
  },
  {
   "cell_type": "code",
   "execution_count": 24,
   "metadata": {},
   "outputs": [],
   "source": [
    "df.to_json(\"./data.json\")"
   ]
  }
 ],
 "metadata": {
  "kernelspec": {
   "display_name": "base",
   "language": "python",
   "name": "python3"
  },
  "language_info": {
   "codemirror_mode": {
    "name": "ipython",
    "version": 3
   },
   "file_extension": ".py",
   "mimetype": "text/x-python",
   "name": "python",
   "nbconvert_exporter": "python",
   "pygments_lexer": "ipython3",
   "version": "3.11.5"
  }
 },
 "nbformat": 4,
 "nbformat_minor": 2
}
